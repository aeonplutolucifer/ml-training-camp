{
  "nbformat": 4,
  "nbformat_minor": 0,
  "metadata": {
    "colab": {
      "name": "ML-camp-homework01-target-mean.ipynb",
      "provenance": [],
      "collapsed_sections": [],
      "toc_visible": true,
      "authorship_tag": "ABX9TyOTDQk7utUypofRFeBKXkUx",
      "include_colab_link": true
    },
    "kernelspec": {
      "name": "python3",
      "display_name": "Python 3"
    },
    "language_info": {
      "name": "python"
    }
  },
  "cells": [
    {
      "cell_type": "markdown",
      "metadata": {
        "id": "view-in-github",
        "colab_type": "text"
      },
      "source": [
        "<a href=\"https://colab.research.google.com/github/aeonplutolucifer/ml-training-camp/blob/main/ML_camp_homework01_target_mean.ipynb\" target=\"_parent\"><img src=\"https://colab.research.google.com/assets/colab-badge.svg\" alt=\"Open In Colab\"/></a>"
      ]
    },
    {
      "cell_type": "code",
      "metadata": {
        "id": "ZVCQsPKpq9qM"
      },
      "source": [
        "import numpy as np\n",
        "import pandas as pd\n",
        "import time"
      ],
      "execution_count": 50,
      "outputs": []
    },
    {
      "cell_type": "markdown",
      "metadata": {
        "id": "v_n2lCtVr0z2"
      },
      "source": [
        "#Baseline for Python V1"
      ]
    },
    {
      "cell_type": "code",
      "metadata": {
        "id": "bwnwLveDru4-"
      },
      "source": [
        "def target_mean_v1(data, y_name, x_name):\n",
        "    result = np.zeros(data.shape[0])\n",
        "    for i in range(data.shape[0]):\n",
        "        groupby_result = data[data.index != i].groupby([x_name], as_index=False).agg(['mean', 'count'])\n",
        "        result[i] = groupby_result.loc[groupby_result.index == data.loc[i, x_name], (y_name, 'mean')]\n",
        "    return result"
      ],
      "execution_count": 51,
      "outputs": []
    },
    {
      "cell_type": "markdown",
      "metadata": {
        "id": "6cYiQEClr8o8"
      },
      "source": [
        "#Baseline for python V2"
      ]
    },
    {
      "cell_type": "code",
      "metadata": {
        "id": "2PqV-xClsDkW"
      },
      "source": [
        "def target_mean_v2(data, y_name, x_name):\n",
        "    result = np.zeros(data.shape[0])\n",
        "    value_dict = dict()\n",
        "    count_dict = dict()\n",
        "    for i in range(data.shape[0]):\n",
        "        if data.loc[i, x_name] not in value_dict.keys():\n",
        "            value_dict[data.loc[i, x_name]] = data.loc[i, y_name]\n",
        "            count_dict[data.loc[i, x_name]] = 1\n",
        "        else:\n",
        "            value_dict[data.loc[i, x_name]] += data.loc[i, y_name]\n",
        "            count_dict[data.loc[i, x_name]] += 1\n",
        "    for i in range(data.shape[0]):\n",
        "        result[i] = (value_dict[data.loc[i, x_name]] - data.loc[i, y_name]) / (count_dict[data.loc[i, x_name]] - 1)\n",
        "    return result"
      ],
      "execution_count": 52,
      "outputs": []
    },
    {
      "cell_type": "markdown",
      "metadata": {
        "id": "ESb1qJCPsOc3"
      },
      "source": [
        "# Baseline for Cython V3"
      ]
    },
    {
      "cell_type": "code",
      "metadata": {
        "colab": {
          "base_uri": "https://localhost:8080/"
        },
        "id": "xA-T1WPVsUym",
        "outputId": "3db3928d-7b5a-4db9-cd26-eddf2f39e044"
      },
      "source": [
        "%load_ext Cython"
      ],
      "execution_count": 53,
      "outputs": [
        {
          "output_type": "stream",
          "text": [
            "The Cython extension is already loaded. To reload it, use:\n",
            "  %reload_ext Cython\n"
          ],
          "name": "stdout"
        }
      ]
    },
    {
      "cell_type": "code",
      "metadata": {
        "id": "G0UbvnETt6p4"
      },
      "source": [
        "%%cython\n",
        "import numpy as np\n",
        "cimport numpy as np\n",
        "\n",
        "cpdef target_mean_v3(data, y_name, x_name):\n",
        "    cdef long nrow = data.shape[0]\n",
        "    cdef np.ndarray[double] result = np.asfortranarray(np.zeros(nrow), dtype=np.float64)\n",
        "    cdef np.ndarray[double] y = np.asfortranarray(data[y_name], dtype=np.float64)\n",
        "    cdef np.ndarray[double] x = np.asfortranarray(data[x_name], dtype=np.float64)\n",
        "\n",
        "    target_mean_v3_impl(result, y, x, nrow)\n",
        "    return result\n",
        "\n",
        "cdef void target_mean_v3_impl(double[:] result, double[:] y, double[:] x, const long nrow):\n",
        "    cdef dict value_dict = dict()\n",
        "    cdef dict count_dict = dict()\n",
        "\n",
        "    cdef long i\n",
        "    for i in range(nrow):\n",
        "        if x[i] not in value_dict.keys():\n",
        "            value_dict[x[i]] = y[i]\n",
        "            count_dict[x[i]] = 1\n",
        "        else:\n",
        "            value_dict[x[i]] += y[i]\n",
        "            count_dict[x[i]] += 1\n",
        "\n",
        "    i=0\n",
        "    for i in range(nrow):\n",
        "        result[i] = (value_dict[x[i]] - y[i])/(count_dict[x[i]]-1)\n"
      ],
      "execution_count": 54,
      "outputs": []
    },
    {
      "cell_type": "markdown",
      "metadata": {
        "id": "NNmKI98O6zH_"
      },
      "source": [
        "#Homework"
      ]
    },
    {
      "cell_type": "code",
      "metadata": {
        "id": "cSRtn3Sg68jK"
      },
      "source": [
        "%%cython\n",
        "import numpy as np\n",
        "cimport numpy as np\n",
        "from libcpp.pair cimport pair\n",
        "\n",
        "cdef extern from \"<boost/unordered_map.hpp>\" namespace \"boost\":\n",
        "    cdef cppclass unordered_map[K, T]: # K: key_type, T: mapped_type\n",
        "        cppclass iterator:\n",
        "            pair& operator*()\n",
        "            bint operator==(iterator)\n",
        "            bint operator!=(iterator)\n",
        "        unordered_map()\n",
        "        bint empty()\n",
        "        size_t size()\n",
        "        iterator begin()\n",
        "        iterator end()\n",
        "        pair emplace(K, T)\n",
        "        iterator find(K)\n",
        "        void clear()\n",
        "        size_t count(K)\n",
        "        T& operator[](K)\n",
        "\n",
        "\n",
        "cpdef target_mean_v4(data, y_name, x_name):\n",
        "    cdef long nrow = data.shape[0]\n",
        "    cdef np.ndarray[double] result = np.asfortranarray(np.zeros(nrow), dtype=np.float64)\n",
        "    cdef np.ndarray[double] y = np.asfortranarray(data[y_name], dtype=np.float64)\n",
        "    cdef np.ndarray[int] x = np.asfortranarray(data[x_name], dtype=np.int)\n",
        "\n",
        "    target_mean_v4_impl(result, y, x, nrow)\n",
        "    return result\n",
        "\n",
        "cdef void target_mean_v4_impl(double[:] result, double[:] y, int[:] x, const long nrow):\n",
        "    cdef unordered_map[int, double] value_dict\n",
        "    cdef unordered_map[int, double] count_dict\n",
        "\n",
        "    cdef long i\n",
        "    for i in xrange(nrow):\n",
        "        if value_dict.find(x[i]) == value_dict.end():\n",
        "            value_dict[x[i]] = y[i]\n",
        "            count_dict[x[i]] = 1\n",
        "        else:\n",
        "            value_dict[x[i]] += y[i]\n",
        "            count_dict[x[i]] += 1\n",
        "\n",
        "    i=0\n",
        "    for i in xrange(nrow):\n",
        "        result[i] = (value_dict[x[i]] - y[i])/(count_dict[x[i]]-1)\n"
      ],
      "execution_count": 55,
      "outputs": []
    },
    {
      "cell_type": "markdown",
      "metadata": {
        "id": "Y-qdkiicsVWK"
      },
      "source": [
        "# Main"
      ]
    },
    {
      "cell_type": "code",
      "metadata": {
        "colab": {
          "base_uri": "https://localhost:8080/"
        },
        "id": "sK-rfvUnsZG5",
        "outputId": "856e3823-7557-4028-dbf5-936b68f9a1fc"
      },
      "source": [
        "y = np.random.randint(2, size=(5000, 1))\n",
        "x = np.random.randint(10, size=(5000, 1))\n",
        "data = pd.DataFrame(np.concatenate([y, x], axis=1), columns=['y', 'x'])\n",
        "\n",
        "start = time.time()\n",
        "result_1 = target_mean_v1(data, 'y', 'x')\n",
        "end = time.time()\n",
        "\n",
        "print(\"v1 used time: \",end - start)\n",
        "\n",
        "start = time.time()\n",
        "result_2 = target_mean_v2(data, 'y', 'x')\n",
        "end = time.time()\n",
        "\n",
        "print(\"v2 used time: \",end - start)\n",
        "\n",
        "start = time.time()\n",
        "result_3 = target_mean_v3(data, 'y', 'x')\n",
        "end = time.time()\n",
        "\n",
        "print(\"v3:Teacher Wang 's version used time: \",end - start)\n",
        "\n",
        "\n",
        "start = time.time()\n",
        "result_4 = target_mean_v4(data, 'y', 'x')\n",
        "end = time.time()\n",
        "\n",
        "print(\"v4:Myversion used time: \",end - start)\n",
        "\n",
        "\n",
        "diff = np.linalg.norm(result_1 - result_2)\n",
        "diff2 = np.linalg.norm(result_1 - result_4)\n",
        "print(diff)\n",
        "print(diff2)\n"
      ],
      "execution_count": 56,
      "outputs": [
        {
          "output_type": "stream",
          "text": [
            "v1 used time:  29.73409605026245\n",
            "v2 used time:  0.32313084602355957\n",
            "v3:Teacher Wang 's version used time:  0.0028769969940185547\n",
            "v4:Myversion used time:  0.0018837451934814453\n",
            "0.0\n",
            "0.0\n"
          ],
          "name": "stdout"
        }
      ]
    }
  ]
}